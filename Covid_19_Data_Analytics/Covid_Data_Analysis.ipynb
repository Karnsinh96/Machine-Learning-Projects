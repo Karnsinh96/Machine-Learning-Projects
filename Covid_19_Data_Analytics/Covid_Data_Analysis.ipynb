{
 "cells": [
  {
   "cell_type": "markdown",
   "id": "5ac61f41",
   "metadata": {},
   "source": [
    "# COVID 19 Data analysis "
   ]
  },
  {
   "cell_type": "code",
   "execution_count": 1,
   "id": "ec5bc653",
   "metadata": {},
   "outputs": [],
   "source": [
    "url=\"https://raw.githubusercontent.com/SR1608/Datasets/main/covid-data.csv\""
   ]
  },
  {
   "cell_type": "code",
   "execution_count": 66,
   "id": "2d4d9c25",
   "metadata": {},
   "outputs": [],
   "source": [
    " #importing some imp libraries\n",
    "import numpy as np\n",
    "import pandas as pd\n",
    "import matplotlib.pyplot as mlt\n",
    "import seaborn as sb"
   ]
  },
  {
   "cell_type": "code",
   "execution_count": 5,
   "id": "f06f7d75",
   "metadata": {},
   "outputs": [
    {
     "data": {
      "text/html": [
       "<div>\n",
       "<style scoped>\n",
       "    .dataframe tbody tr th:only-of-type {\n",
       "        vertical-align: middle;\n",
       "    }\n",
       "\n",
       "    .dataframe tbody tr th {\n",
       "        vertical-align: top;\n",
       "    }\n",
       "\n",
       "    .dataframe thead th {\n",
       "        text-align: right;\n",
       "    }\n",
       "</style>\n",
       "<table border=\"1\" class=\"dataframe\">\n",
       "  <thead>\n",
       "    <tr style=\"text-align: right;\">\n",
       "      <th></th>\n",
       "      <th>iso_code</th>\n",
       "      <th>continent</th>\n",
       "      <th>location</th>\n",
       "      <th>date</th>\n",
       "      <th>total_cases</th>\n",
       "      <th>new_cases</th>\n",
       "      <th>new_cases_smoothed</th>\n",
       "      <th>total_deaths</th>\n",
       "      <th>new_deaths</th>\n",
       "      <th>new_deaths_smoothed</th>\n",
       "      <th>...</th>\n",
       "      <th>gdp_per_capita</th>\n",
       "      <th>extreme_poverty</th>\n",
       "      <th>cardiovasc_death_rate</th>\n",
       "      <th>diabetes_prevalence</th>\n",
       "      <th>female_smokers</th>\n",
       "      <th>male_smokers</th>\n",
       "      <th>handwashing_facilities</th>\n",
       "      <th>hospital_beds_per_thousand</th>\n",
       "      <th>life_expectancy</th>\n",
       "      <th>human_development_index</th>\n",
       "    </tr>\n",
       "  </thead>\n",
       "  <tbody>\n",
       "    <tr>\n",
       "      <th>0</th>\n",
       "      <td>AFG</td>\n",
       "      <td>Asia</td>\n",
       "      <td>Afghanistan</td>\n",
       "      <td>31/12/19</td>\n",
       "      <td>NaN</td>\n",
       "      <td>0.0</td>\n",
       "      <td>NaN</td>\n",
       "      <td>NaN</td>\n",
       "      <td>0.0</td>\n",
       "      <td>NaN</td>\n",
       "      <td>...</td>\n",
       "      <td>1803.987</td>\n",
       "      <td>NaN</td>\n",
       "      <td>597.029</td>\n",
       "      <td>9.59</td>\n",
       "      <td>NaN</td>\n",
       "      <td>NaN</td>\n",
       "      <td>37.746</td>\n",
       "      <td>0.5</td>\n",
       "      <td>64.83</td>\n",
       "      <td>0.498</td>\n",
       "    </tr>\n",
       "    <tr>\n",
       "      <th>1</th>\n",
       "      <td>AFG</td>\n",
       "      <td>Asia</td>\n",
       "      <td>Afghanistan</td>\n",
       "      <td>01/01/20</td>\n",
       "      <td>NaN</td>\n",
       "      <td>0.0</td>\n",
       "      <td>NaN</td>\n",
       "      <td>NaN</td>\n",
       "      <td>0.0</td>\n",
       "      <td>NaN</td>\n",
       "      <td>...</td>\n",
       "      <td>1803.987</td>\n",
       "      <td>NaN</td>\n",
       "      <td>597.029</td>\n",
       "      <td>9.59</td>\n",
       "      <td>NaN</td>\n",
       "      <td>NaN</td>\n",
       "      <td>37.746</td>\n",
       "      <td>0.5</td>\n",
       "      <td>64.83</td>\n",
       "      <td>0.498</td>\n",
       "    </tr>\n",
       "    <tr>\n",
       "      <th>2</th>\n",
       "      <td>AFG</td>\n",
       "      <td>Asia</td>\n",
       "      <td>Afghanistan</td>\n",
       "      <td>02/01/20</td>\n",
       "      <td>NaN</td>\n",
       "      <td>0.0</td>\n",
       "      <td>NaN</td>\n",
       "      <td>NaN</td>\n",
       "      <td>0.0</td>\n",
       "      <td>NaN</td>\n",
       "      <td>...</td>\n",
       "      <td>1803.987</td>\n",
       "      <td>NaN</td>\n",
       "      <td>597.029</td>\n",
       "      <td>9.59</td>\n",
       "      <td>NaN</td>\n",
       "      <td>NaN</td>\n",
       "      <td>37.746</td>\n",
       "      <td>0.5</td>\n",
       "      <td>64.83</td>\n",
       "      <td>0.498</td>\n",
       "    </tr>\n",
       "    <tr>\n",
       "      <th>3</th>\n",
       "      <td>AFG</td>\n",
       "      <td>Asia</td>\n",
       "      <td>Afghanistan</td>\n",
       "      <td>03/01/20</td>\n",
       "      <td>NaN</td>\n",
       "      <td>0.0</td>\n",
       "      <td>NaN</td>\n",
       "      <td>NaN</td>\n",
       "      <td>0.0</td>\n",
       "      <td>NaN</td>\n",
       "      <td>...</td>\n",
       "      <td>1803.987</td>\n",
       "      <td>NaN</td>\n",
       "      <td>597.029</td>\n",
       "      <td>9.59</td>\n",
       "      <td>NaN</td>\n",
       "      <td>NaN</td>\n",
       "      <td>37.746</td>\n",
       "      <td>0.5</td>\n",
       "      <td>64.83</td>\n",
       "      <td>0.498</td>\n",
       "    </tr>\n",
       "    <tr>\n",
       "      <th>4</th>\n",
       "      <td>AFG</td>\n",
       "      <td>Asia</td>\n",
       "      <td>Afghanistan</td>\n",
       "      <td>04/01/20</td>\n",
       "      <td>NaN</td>\n",
       "      <td>0.0</td>\n",
       "      <td>NaN</td>\n",
       "      <td>NaN</td>\n",
       "      <td>0.0</td>\n",
       "      <td>NaN</td>\n",
       "      <td>...</td>\n",
       "      <td>1803.987</td>\n",
       "      <td>NaN</td>\n",
       "      <td>597.029</td>\n",
       "      <td>9.59</td>\n",
       "      <td>NaN</td>\n",
       "      <td>NaN</td>\n",
       "      <td>37.746</td>\n",
       "      <td>0.5</td>\n",
       "      <td>64.83</td>\n",
       "      <td>0.498</td>\n",
       "    </tr>\n",
       "  </tbody>\n",
       "</table>\n",
       "<p>5 rows × 49 columns</p>\n",
       "</div>"
      ],
      "text/plain": [
       "  iso_code continent     location      date  total_cases  new_cases  \\\n",
       "0      AFG      Asia  Afghanistan  31/12/19          NaN        0.0   \n",
       "1      AFG      Asia  Afghanistan  01/01/20          NaN        0.0   \n",
       "2      AFG      Asia  Afghanistan  02/01/20          NaN        0.0   \n",
       "3      AFG      Asia  Afghanistan  03/01/20          NaN        0.0   \n",
       "4      AFG      Asia  Afghanistan  04/01/20          NaN        0.0   \n",
       "\n",
       "   new_cases_smoothed  total_deaths  new_deaths  new_deaths_smoothed  ...  \\\n",
       "0                 NaN           NaN         0.0                  NaN  ...   \n",
       "1                 NaN           NaN         0.0                  NaN  ...   \n",
       "2                 NaN           NaN         0.0                  NaN  ...   \n",
       "3                 NaN           NaN         0.0                  NaN  ...   \n",
       "4                 NaN           NaN         0.0                  NaN  ...   \n",
       "\n",
       "   gdp_per_capita  extreme_poverty  cardiovasc_death_rate  \\\n",
       "0        1803.987              NaN                597.029   \n",
       "1        1803.987              NaN                597.029   \n",
       "2        1803.987              NaN                597.029   \n",
       "3        1803.987              NaN                597.029   \n",
       "4        1803.987              NaN                597.029   \n",
       "\n",
       "   diabetes_prevalence  female_smokers  male_smokers  handwashing_facilities  \\\n",
       "0                 9.59             NaN           NaN                  37.746   \n",
       "1                 9.59             NaN           NaN                  37.746   \n",
       "2                 9.59             NaN           NaN                  37.746   \n",
       "3                 9.59             NaN           NaN                  37.746   \n",
       "4                 9.59             NaN           NaN                  37.746   \n",
       "\n",
       "   hospital_beds_per_thousand  life_expectancy  human_development_index  \n",
       "0                         0.5            64.83                    0.498  \n",
       "1                         0.5            64.83                    0.498  \n",
       "2                         0.5            64.83                    0.498  \n",
       "3                         0.5            64.83                    0.498  \n",
       "4                         0.5            64.83                    0.498  \n",
       "\n",
       "[5 rows x 49 columns]"
      ]
     },
     "execution_count": 5,
     "metadata": {},
     "output_type": "execute_result"
    }
   ],
   "source": [
    "# Importing the dataset in df variable\n",
    "df = pd.read_csv(url)\n",
    "df.head()"
   ]
  },
  {
   "cell_type": "markdown",
   "id": "4f0b8192",
   "metadata": {},
   "source": [
    "# 2. High Level Understanding of data"
   ]
  },
  {
   "cell_type": "code",
   "execution_count": 6,
   "id": "0c160c7d",
   "metadata": {},
   "outputs": [
    {
     "name": "stdout",
     "output_type": "stream",
     "text": [
      "No. of Rows=  57394 \n",
      "No. of Columns=  49\n"
     ]
    }
   ],
   "source": [
    "#finding Rpws and Columns\n",
    "print(\"No. of Rows= \",df.shape[0],\"\\nNo. of Columns= \",df.shape[1])"
   ]
  },
  {
   "cell_type": "code",
   "execution_count": 7,
   "id": "53ea8f72",
   "metadata": {},
   "outputs": [
    {
     "data": {
      "text/plain": [
       "iso_code                               object\n",
       "continent                              object\n",
       "location                               object\n",
       "date                                   object\n",
       "total_cases                           float64\n",
       "new_cases                             float64\n",
       "new_cases_smoothed                    float64\n",
       "total_deaths                          float64\n",
       "new_deaths                            float64\n",
       "new_deaths_smoothed                   float64\n",
       "total_cases_per_million               float64\n",
       "new_cases_per_million                 float64\n",
       "new_cases_smoothed_per_million        float64\n",
       "total_deaths_per_million              float64\n",
       "new_deaths_per_million                float64\n",
       "new_deaths_smoothed_per_million       float64\n",
       "reproduction_rate                     float64\n",
       "icu_patients                          float64\n",
       "icu_patients_per_million              float64\n",
       "hosp_patients                         float64\n",
       "hosp_patients_per_million             float64\n",
       "weekly_icu_admissions                 float64\n",
       "weekly_icu_admissions_per_million     float64\n",
       "weekly_hosp_admissions                float64\n",
       "weekly_hosp_admissions_per_million    float64\n",
       "total_tests                           float64\n",
       "new_tests                             float64\n",
       "total_tests_per_thousand              float64\n",
       "new_tests_per_thousand                float64\n",
       "new_tests_smoothed                    float64\n",
       "new_tests_smoothed_per_thousand       float64\n",
       "tests_per_case                        float64\n",
       "positive_rate                         float64\n",
       "stringency_index                      float64\n",
       "population                            float64\n",
       "population_density                    float64\n",
       "median_age                            float64\n",
       "aged_65_older                         float64\n",
       "aged_70_older                         float64\n",
       "gdp_per_capita                        float64\n",
       "extreme_poverty                       float64\n",
       "cardiovasc_death_rate                 float64\n",
       "diabetes_prevalence                   float64\n",
       "female_smokers                        float64\n",
       "male_smokers                          float64\n",
       "handwashing_facilities                float64\n",
       "hospital_beds_per_thousand            float64\n",
       "life_expectancy                       float64\n",
       "human_development_index               float64\n",
       "dtype: object"
      ]
     },
     "execution_count": 7,
     "metadata": {},
     "output_type": "execute_result"
    }
   ],
   "source": [
    "#Data Types of all columns\n",
    "df.dtypes"
   ]
  },
  {
   "cell_type": "code",
   "execution_count": null,
   "id": "b77764bb",
   "metadata": {},
   "outputs": [],
   "source": [
    "#Information about dataframe\n",
    "df.info()"
   ]
  },
  {
   "cell_type": "code",
   "execution_count": null,
   "id": "7966b4bd",
   "metadata": {},
   "outputs": [],
   "source": [
    "#Describe Dataframe\n",
    "df.describe()"
   ]
  },
  {
   "cell_type": "markdown",
   "id": "32121d3a",
   "metadata": {},
   "source": [
    "# 3.  Low Level Data Understanding"
   ]
  },
  {
   "cell_type": "code",
   "execution_count": 8,
   "id": "40a2be07",
   "metadata": {},
   "outputs": [
    {
     "name": "stdout",
     "output_type": "stream",
     "text": [
      "No. of Unique locations  216\n"
     ]
    }
   ],
   "source": [
    "#finding unique values in location\n",
    "print(\"No. of Unique locations \",df[\"location\"].nunique())"
   ]
  },
  {
   "cell_type": "code",
   "execution_count": 11,
   "id": "91c58212",
   "metadata": {},
   "outputs": [
    {
     "name": "stdout",
     "output_type": "stream",
     "text": [
      "Continent with maximum frequency 14828\n"
     ]
    }
   ],
   "source": [
    "#findig continet with maximum frequency\n",
    "print(\"Continent with maximum frequency\",df[\"continent\"].value_counts().max())"
   ]
  },
  {
   "cell_type": "code",
   "execution_count": 10,
   "id": "d5667a92",
   "metadata": {},
   "outputs": [
    {
     "name": "stdout",
     "output_type": "stream",
     "text": [
      "Max value in Total cases  55154651.0\n"
     ]
    }
   ],
   "source": [
    "#Find maximum & mean value in 'total_cases'.\n",
    "print(\"Max value in Total cases \",df[\"total_cases\"].max())"
   ]
  },
  {
   "cell_type": "code",
   "execution_count": 12,
   "id": "c8683c6d",
   "metadata": {},
   "outputs": [
    {
     "name": "stdout",
     "output_type": "stream",
     "text": [
      "Mean value in Total cases  167797.3688753302\n"
     ]
    }
   ],
   "source": [
    "print(\"Mean value in Total cases \",df[\"total_cases\"].mean())"
   ]
  },
  {
   "cell_type": "code",
   "execution_count": 13,
   "id": "c4ded40a",
   "metadata": {},
   "outputs": [
    {
     "name": "stdout",
     "output_type": "stream",
     "text": [
      "25% of total deaths is  13.0\n"
     ]
    }
   ],
   "source": [
    "#Finding 25% of total deaths\n",
    "print(\"25% of total deaths is \",df[\"total_deaths\"].quantile(0.25))"
   ]
  },
  {
   "cell_type": "code",
   "execution_count": 14,
   "id": "c2a241ff",
   "metadata": {},
   "outputs": [
    {
     "name": "stdout",
     "output_type": "stream",
     "text": [
      "50% of total deaths is  84.0\n"
     ]
    }
   ],
   "source": [
    "#Finding 50% of total deaths\n",
    "print(\"50% of total deaths is \",df[\"total_deaths\"].quantile(0.5))"
   ]
  },
  {
   "cell_type": "code",
   "execution_count": 15,
   "id": "3c601876",
   "metadata": {},
   "outputs": [
    {
     "name": "stdout",
     "output_type": "stream",
     "text": [
      "75% of total deaths is  727.0\n"
     ]
    }
   ],
   "source": [
    "#Finding 75% of total deaths\n",
    "print(\"75% of total deaths is \",df[\"total_deaths\"].quantile(0.75))"
   ]
  },
  {
   "cell_type": "code",
   "execution_count": 20,
   "id": "fb35da02",
   "metadata": {},
   "outputs": [
    {
     "data": {
      "text/plain": [
       "continent\n",
       "Europe     0.953\n",
       "Oceania    0.939\n",
       "Name: human_development_index, dtype: float64"
      ]
     },
     "execution_count": 20,
     "metadata": {},
     "output_type": "execute_result"
    }
   ],
   "source": [
    "#find which continent has maximum 'human_development_index'.\n",
    "df.groupby(\"continent\")[\"human_development_index\"].max().nlargest(2)"
   ]
  },
  {
   "cell_type": "code",
   "execution_count": 24,
   "id": "d55ce9aa",
   "metadata": {},
   "outputs": [
    {
     "data": {
      "text/plain": [
       "continent\n",
       "Africa            661.240\n",
       "Asia             1479.147\n",
       "North America    1653.173\n",
       "Name: gdp_per_capita, dtype: float64"
      ]
     },
     "execution_count": 24,
     "metadata": {},
     "output_type": "execute_result"
    }
   ],
   "source": [
    "#finding continet has min GDP per capita\n",
    "df.groupby(\"continent\")[\"gdp_per_capita\"].min().nsmallest(3)"
   ]
  },
  {
   "cell_type": "markdown",
   "id": "608143fa",
   "metadata": {},
   "source": [
    "#  4. Filter the dataframe with only this columns\n",
    "['continent','location','date','total_cases','total_deaths','gdp_per_capita','human_development_index']"
   ]
  },
  {
   "cell_type": "code",
   "execution_count": 25,
   "id": "ac25df6d",
   "metadata": {},
   "outputs": [
    {
     "data": {
      "text/html": [
       "<div>\n",
       "<style scoped>\n",
       "    .dataframe tbody tr th:only-of-type {\n",
       "        vertical-align: middle;\n",
       "    }\n",
       "\n",
       "    .dataframe tbody tr th {\n",
       "        vertical-align: top;\n",
       "    }\n",
       "\n",
       "    .dataframe thead th {\n",
       "        text-align: right;\n",
       "    }\n",
       "</style>\n",
       "<table border=\"1\" class=\"dataframe\">\n",
       "  <thead>\n",
       "    <tr style=\"text-align: right;\">\n",
       "      <th></th>\n",
       "      <th>continent</th>\n",
       "      <th>location</th>\n",
       "      <th>date</th>\n",
       "      <th>total_cases</th>\n",
       "      <th>total_deaths</th>\n",
       "      <th>gdp_per_capita</th>\n",
       "      <th>human_development_index</th>\n",
       "    </tr>\n",
       "  </thead>\n",
       "  <tbody>\n",
       "    <tr>\n",
       "      <th>0</th>\n",
       "      <td>Asia</td>\n",
       "      <td>Afghanistan</td>\n",
       "      <td>31/12/19</td>\n",
       "      <td>NaN</td>\n",
       "      <td>NaN</td>\n",
       "      <td>1803.987</td>\n",
       "      <td>0.498</td>\n",
       "    </tr>\n",
       "    <tr>\n",
       "      <th>1</th>\n",
       "      <td>Asia</td>\n",
       "      <td>Afghanistan</td>\n",
       "      <td>01/01/20</td>\n",
       "      <td>NaN</td>\n",
       "      <td>NaN</td>\n",
       "      <td>1803.987</td>\n",
       "      <td>0.498</td>\n",
       "    </tr>\n",
       "    <tr>\n",
       "      <th>2</th>\n",
       "      <td>Asia</td>\n",
       "      <td>Afghanistan</td>\n",
       "      <td>02/01/20</td>\n",
       "      <td>NaN</td>\n",
       "      <td>NaN</td>\n",
       "      <td>1803.987</td>\n",
       "      <td>0.498</td>\n",
       "    </tr>\n",
       "    <tr>\n",
       "      <th>3</th>\n",
       "      <td>Asia</td>\n",
       "      <td>Afghanistan</td>\n",
       "      <td>03/01/20</td>\n",
       "      <td>NaN</td>\n",
       "      <td>NaN</td>\n",
       "      <td>1803.987</td>\n",
       "      <td>0.498</td>\n",
       "    </tr>\n",
       "    <tr>\n",
       "      <th>4</th>\n",
       "      <td>Asia</td>\n",
       "      <td>Afghanistan</td>\n",
       "      <td>04/01/20</td>\n",
       "      <td>NaN</td>\n",
       "      <td>NaN</td>\n",
       "      <td>1803.987</td>\n",
       "      <td>0.498</td>\n",
       "    </tr>\n",
       "  </tbody>\n",
       "</table>\n",
       "</div>"
      ],
      "text/plain": [
       "  continent     location      date  total_cases  total_deaths  gdp_per_capita  \\\n",
       "0      Asia  Afghanistan  31/12/19          NaN           NaN        1803.987   \n",
       "1      Asia  Afghanistan  01/01/20          NaN           NaN        1803.987   \n",
       "2      Asia  Afghanistan  02/01/20          NaN           NaN        1803.987   \n",
       "3      Asia  Afghanistan  03/01/20          NaN           NaN        1803.987   \n",
       "4      Asia  Afghanistan  04/01/20          NaN           NaN        1803.987   \n",
       "\n",
       "   human_development_index  \n",
       "0                    0.498  \n",
       "1                    0.498  \n",
       "2                    0.498  \n",
       "3                    0.498  \n",
       "4                    0.498  "
      ]
     },
     "execution_count": 25,
     "metadata": {},
     "output_type": "execute_result"
    }
   ],
   "source": [
    "df1=df[['continent','location','date','total_cases','total_deaths','gdp_per_capita','human_development_index']]\n",
    "df1.head()"
   ]
  },
  {
   "cell_type": "markdown",
   "id": "29efcd08",
   "metadata": {},
   "source": [
    "# 5. Data Cleaning"
   ]
  },
  {
   "cell_type": "code",
   "execution_count": 27,
   "id": "74773333",
   "metadata": {},
   "outputs": [
    {
     "name": "stdout",
     "output_type": "stream",
     "text": [
      "Number of Rows before removing duplicates  57394\n"
     ]
    }
   ],
   "source": [
    "print(\"Number of Rows before removing duplicates \",df.shape[0])"
   ]
  },
  {
   "cell_type": "code",
   "execution_count": 37,
   "id": "2b62f3eb",
   "metadata": {},
   "outputs": [
    {
     "name": "stdout",
     "output_type": "stream",
     "text": [
      "Number of rows after removing duplicates duplicates  56748\n"
     ]
    }
   ],
   "source": [
    "#Drop duplicates\n",
    "df.drop_duplicates(inplace=True)\n",
    "print(\"Number of rows after removing duplicates duplicates \",df.shape[0])"
   ]
  },
  {
   "cell_type": "code",
   "execution_count": 39,
   "id": "1fff1f73",
   "metadata": {},
   "outputs": [
    {
     "data": {
      "text/plain": [
       "iso_code                                  0\n",
       "continent                                 0\n",
       "location                                  0\n",
       "date                                      0\n",
       "total_cases                            3600\n",
       "new_cases                               670\n",
       "new_cases_smoothed                     1478\n",
       "total_deaths                          12964\n",
       "new_deaths                              670\n",
       "new_deaths_smoothed                    1478\n",
       "total_cases_per_million                3600\n",
       "new_cases_per_million                   670\n",
       "new_cases_smoothed_per_million         1478\n",
       "total_deaths_per_million              12964\n",
       "new_deaths_per_million                  670\n",
       "new_deaths_smoothed_per_million        1478\n",
       "reproduction_rate                     19342\n",
       "icu_patients                          52258\n",
       "icu_patients_per_million              52258\n",
       "hosp_patients                         51743\n",
       "hosp_patients_per_million             51743\n",
       "weekly_icu_admissions                 56391\n",
       "weekly_icu_admissions_per_million     56391\n",
       "weekly_hosp_admissions                56103\n",
       "weekly_hosp_admissions_per_million    56103\n",
       "total_tests                           34731\n",
       "new_tests                             34961\n",
       "total_tests_per_thousand              34731\n",
       "new_tests_per_thousand                34961\n",
       "new_tests_smoothed                    32136\n",
       "new_tests_smoothed_per_thousand       32136\n",
       "tests_per_case                        33946\n",
       "positive_rate                         33537\n",
       "stringency_index                       8901\n",
       "population                                0\n",
       "population_density                     2700\n",
       "median_age                             6037\n",
       "aged_65_older                          6806\n",
       "aged_70_older                          6303\n",
       "gdp_per_capita                         6704\n",
       "extreme_poverty                       23500\n",
       "cardiovasc_death_rate                  6058\n",
       "diabetes_prevalence                    4190\n",
       "female_smokers                        17402\n",
       "male_smokers                          17915\n",
       "handwashing_facilities                32895\n",
       "hospital_beds_per_thousand            11135\n",
       "life_expectancy                         735\n",
       "human_development_index                7501\n",
       "dtype: int64"
      ]
     },
     "execution_count": 39,
     "metadata": {},
     "output_type": "execute_result"
    }
   ],
   "source": [
    "#findind missing values in all columns\n",
    "df.isnull().sum()"
   ]
  },
  {
   "cell_type": "code",
   "execution_count": 38,
   "id": "81aa0cb3",
   "metadata": {},
   "outputs": [
    {
     "name": "stdout",
     "output_type": "stream",
     "text": [
      "Number of Rows before dropping Null values from continent  56748\n",
      "Number of Rows after dropping Null values from continent  56748\n"
     ]
    }
   ],
   "source": [
    "#c. Remove all observations where continent column value is missing\n",
    "print(\"Number of Rows before dropping Null values from continent \",df.shape[0])\n",
    "df.dropna(subset=[\"continent\"],inplace=True)\n",
    "df\n",
    "print(\"Number of Rows after dropping Null values from continent \",df.shape[0])"
   ]
  },
  {
   "cell_type": "code",
   "execution_count": null,
   "id": "cee064a0",
   "metadata": {},
   "outputs": [],
   "source": []
  },
  {
   "cell_type": "code",
   "execution_count": 40,
   "id": "53e60411",
   "metadata": {},
   "outputs": [
    {
     "data": {
      "text/plain": [
       "iso_code                                  0\n",
       "continent                                 0\n",
       "location                                  0\n",
       "date                                      0\n",
       "total_cases                            3600\n",
       "new_cases                               670\n",
       "new_cases_smoothed                     1478\n",
       "total_deaths                          12964\n",
       "new_deaths                              670\n",
       "new_deaths_smoothed                    1478\n",
       "total_cases_per_million                3600\n",
       "new_cases_per_million                   670\n",
       "new_cases_smoothed_per_million         1478\n",
       "total_deaths_per_million              12964\n",
       "new_deaths_per_million                  670\n",
       "new_deaths_smoothed_per_million        1478\n",
       "reproduction_rate                     19342\n",
       "icu_patients                          52258\n",
       "icu_patients_per_million              52258\n",
       "hosp_patients                         51743\n",
       "hosp_patients_per_million             51743\n",
       "weekly_icu_admissions                 56391\n",
       "weekly_icu_admissions_per_million     56391\n",
       "weekly_hosp_admissions                56103\n",
       "weekly_hosp_admissions_per_million    56103\n",
       "total_tests                           34731\n",
       "new_tests                             34961\n",
       "total_tests_per_thousand              34731\n",
       "new_tests_per_thousand                34961\n",
       "new_tests_smoothed                    32136\n",
       "new_tests_smoothed_per_thousand       32136\n",
       "tests_per_case                        33946\n",
       "positive_rate                         33537\n",
       "stringency_index                       8901\n",
       "population                                0\n",
       "population_density                     2700\n",
       "median_age                             6037\n",
       "aged_65_older                          6806\n",
       "aged_70_older                          6303\n",
       "gdp_per_capita                         6704\n",
       "extreme_poverty                       23500\n",
       "cardiovasc_death_rate                  6058\n",
       "diabetes_prevalence                    4190\n",
       "female_smokers                        17402\n",
       "male_smokers                          17915\n",
       "handwashing_facilities                32895\n",
       "hospital_beds_per_thousand            11135\n",
       "life_expectancy                         735\n",
       "human_development_index                7501\n",
       "dtype: int64"
      ]
     },
     "execution_count": 40,
     "metadata": {},
     "output_type": "execute_result"
    }
   ],
   "source": [
    "df.isnull().sum()"
   ]
  },
  {
   "cell_type": "code",
   "execution_count": 41,
   "id": "8b5c8717",
   "metadata": {},
   "outputs": [],
   "source": [
    "#Fill all missing values with 0\n",
    "df.fillna(0,inplace=True)"
   ]
  },
  {
   "cell_type": "code",
   "execution_count": 42,
   "id": "6fe6e6ae",
   "metadata": {},
   "outputs": [
    {
     "data": {
      "text/plain": [
       "iso_code                              0\n",
       "continent                             0\n",
       "location                              0\n",
       "date                                  0\n",
       "total_cases                           0\n",
       "new_cases                             0\n",
       "new_cases_smoothed                    0\n",
       "total_deaths                          0\n",
       "new_deaths                            0\n",
       "new_deaths_smoothed                   0\n",
       "total_cases_per_million               0\n",
       "new_cases_per_million                 0\n",
       "new_cases_smoothed_per_million        0\n",
       "total_deaths_per_million              0\n",
       "new_deaths_per_million                0\n",
       "new_deaths_smoothed_per_million       0\n",
       "reproduction_rate                     0\n",
       "icu_patients                          0\n",
       "icu_patients_per_million              0\n",
       "hosp_patients                         0\n",
       "hosp_patients_per_million             0\n",
       "weekly_icu_admissions                 0\n",
       "weekly_icu_admissions_per_million     0\n",
       "weekly_hosp_admissions                0\n",
       "weekly_hosp_admissions_per_million    0\n",
       "total_tests                           0\n",
       "new_tests                             0\n",
       "total_tests_per_thousand              0\n",
       "new_tests_per_thousand                0\n",
       "new_tests_smoothed                    0\n",
       "new_tests_smoothed_per_thousand       0\n",
       "tests_per_case                        0\n",
       "positive_rate                         0\n",
       "stringency_index                      0\n",
       "population                            0\n",
       "population_density                    0\n",
       "median_age                            0\n",
       "aged_65_older                         0\n",
       "aged_70_older                         0\n",
       "gdp_per_capita                        0\n",
       "extreme_poverty                       0\n",
       "cardiovasc_death_rate                 0\n",
       "diabetes_prevalence                   0\n",
       "female_smokers                        0\n",
       "male_smokers                          0\n",
       "handwashing_facilities                0\n",
       "hospital_beds_per_thousand            0\n",
       "life_expectancy                       0\n",
       "human_development_index               0\n",
       "dtype: int64"
      ]
     },
     "execution_count": 42,
     "metadata": {},
     "output_type": "execute_result"
    }
   ],
   "source": [
    "df.isnull().sum()"
   ]
  },
  {
   "cell_type": "markdown",
   "id": "8ede9528",
   "metadata": {},
   "source": [
    "# 6. Data time Format"
   ]
  },
  {
   "cell_type": "code",
   "execution_count": 43,
   "id": "2ea275fe",
   "metadata": {},
   "outputs": [
    {
     "data": {
      "text/plain": [
       "iso_code                               object\n",
       "continent                              object\n",
       "location                               object\n",
       "date                                   object\n",
       "total_cases                           float64\n",
       "new_cases                             float64\n",
       "new_cases_smoothed                    float64\n",
       "total_deaths                          float64\n",
       "new_deaths                            float64\n",
       "new_deaths_smoothed                   float64\n",
       "total_cases_per_million               float64\n",
       "new_cases_per_million                 float64\n",
       "new_cases_smoothed_per_million        float64\n",
       "total_deaths_per_million              float64\n",
       "new_deaths_per_million                float64\n",
       "new_deaths_smoothed_per_million       float64\n",
       "reproduction_rate                     float64\n",
       "icu_patients                          float64\n",
       "icu_patients_per_million              float64\n",
       "hosp_patients                         float64\n",
       "hosp_patients_per_million             float64\n",
       "weekly_icu_admissions                 float64\n",
       "weekly_icu_admissions_per_million     float64\n",
       "weekly_hosp_admissions                float64\n",
       "weekly_hosp_admissions_per_million    float64\n",
       "total_tests                           float64\n",
       "new_tests                             float64\n",
       "total_tests_per_thousand              float64\n",
       "new_tests_per_thousand                float64\n",
       "new_tests_smoothed                    float64\n",
       "new_tests_smoothed_per_thousand       float64\n",
       "tests_per_case                        float64\n",
       "positive_rate                         float64\n",
       "stringency_index                      float64\n",
       "population                            float64\n",
       "population_density                    float64\n",
       "median_age                            float64\n",
       "aged_65_older                         float64\n",
       "aged_70_older                         float64\n",
       "gdp_per_capita                        float64\n",
       "extreme_poverty                       float64\n",
       "cardiovasc_death_rate                 float64\n",
       "diabetes_prevalence                   float64\n",
       "female_smokers                        float64\n",
       "male_smokers                          float64\n",
       "handwashing_facilities                float64\n",
       "hospital_beds_per_thousand            float64\n",
       "life_expectancy                       float64\n",
       "human_development_index               float64\n",
       "dtype: object"
      ]
     },
     "execution_count": 43,
     "metadata": {},
     "output_type": "execute_result"
    }
   ],
   "source": [
    "df.dtypes"
   ]
  },
  {
   "cell_type": "code",
   "execution_count": 45,
   "id": "32402cd3",
   "metadata": {},
   "outputs": [
    {
     "data": {
      "text/html": [
       "<div>\n",
       "<style scoped>\n",
       "    .dataframe tbody tr th:only-of-type {\n",
       "        vertical-align: middle;\n",
       "    }\n",
       "\n",
       "    .dataframe tbody tr th {\n",
       "        vertical-align: top;\n",
       "    }\n",
       "\n",
       "    .dataframe thead th {\n",
       "        text-align: right;\n",
       "    }\n",
       "</style>\n",
       "<table border=\"1\" class=\"dataframe\">\n",
       "  <thead>\n",
       "    <tr style=\"text-align: right;\">\n",
       "      <th></th>\n",
       "      <th>iso_code</th>\n",
       "      <th>continent</th>\n",
       "      <th>location</th>\n",
       "      <th>date</th>\n",
       "      <th>total_cases</th>\n",
       "      <th>new_cases</th>\n",
       "      <th>new_cases_smoothed</th>\n",
       "      <th>total_deaths</th>\n",
       "      <th>new_deaths</th>\n",
       "      <th>new_deaths_smoothed</th>\n",
       "      <th>...</th>\n",
       "      <th>gdp_per_capita</th>\n",
       "      <th>extreme_poverty</th>\n",
       "      <th>cardiovasc_death_rate</th>\n",
       "      <th>diabetes_prevalence</th>\n",
       "      <th>female_smokers</th>\n",
       "      <th>male_smokers</th>\n",
       "      <th>handwashing_facilities</th>\n",
       "      <th>hospital_beds_per_thousand</th>\n",
       "      <th>life_expectancy</th>\n",
       "      <th>human_development_index</th>\n",
       "    </tr>\n",
       "  </thead>\n",
       "  <tbody>\n",
       "    <tr>\n",
       "      <th>0</th>\n",
       "      <td>AFG</td>\n",
       "      <td>Asia</td>\n",
       "      <td>Afghanistan</td>\n",
       "      <td>2019-12-31</td>\n",
       "      <td>0.0</td>\n",
       "      <td>0.0</td>\n",
       "      <td>0.000</td>\n",
       "      <td>0.0</td>\n",
       "      <td>0.0</td>\n",
       "      <td>0.000</td>\n",
       "      <td>...</td>\n",
       "      <td>1803.987</td>\n",
       "      <td>0.0</td>\n",
       "      <td>597.029</td>\n",
       "      <td>9.59</td>\n",
       "      <td>0.0</td>\n",
       "      <td>0.0</td>\n",
       "      <td>37.746</td>\n",
       "      <td>0.5</td>\n",
       "      <td>64.83</td>\n",
       "      <td>0.498</td>\n",
       "    </tr>\n",
       "    <tr>\n",
       "      <th>1</th>\n",
       "      <td>AFG</td>\n",
       "      <td>Asia</td>\n",
       "      <td>Afghanistan</td>\n",
       "      <td>2020-01-01</td>\n",
       "      <td>0.0</td>\n",
       "      <td>0.0</td>\n",
       "      <td>0.000</td>\n",
       "      <td>0.0</td>\n",
       "      <td>0.0</td>\n",
       "      <td>0.000</td>\n",
       "      <td>...</td>\n",
       "      <td>1803.987</td>\n",
       "      <td>0.0</td>\n",
       "      <td>597.029</td>\n",
       "      <td>9.59</td>\n",
       "      <td>0.0</td>\n",
       "      <td>0.0</td>\n",
       "      <td>37.746</td>\n",
       "      <td>0.5</td>\n",
       "      <td>64.83</td>\n",
       "      <td>0.498</td>\n",
       "    </tr>\n",
       "    <tr>\n",
       "      <th>2</th>\n",
       "      <td>AFG</td>\n",
       "      <td>Asia</td>\n",
       "      <td>Afghanistan</td>\n",
       "      <td>2020-02-01</td>\n",
       "      <td>0.0</td>\n",
       "      <td>0.0</td>\n",
       "      <td>0.000</td>\n",
       "      <td>0.0</td>\n",
       "      <td>0.0</td>\n",
       "      <td>0.000</td>\n",
       "      <td>...</td>\n",
       "      <td>1803.987</td>\n",
       "      <td>0.0</td>\n",
       "      <td>597.029</td>\n",
       "      <td>9.59</td>\n",
       "      <td>0.0</td>\n",
       "      <td>0.0</td>\n",
       "      <td>37.746</td>\n",
       "      <td>0.5</td>\n",
       "      <td>64.83</td>\n",
       "      <td>0.498</td>\n",
       "    </tr>\n",
       "    <tr>\n",
       "      <th>3</th>\n",
       "      <td>AFG</td>\n",
       "      <td>Asia</td>\n",
       "      <td>Afghanistan</td>\n",
       "      <td>2020-03-01</td>\n",
       "      <td>0.0</td>\n",
       "      <td>0.0</td>\n",
       "      <td>0.000</td>\n",
       "      <td>0.0</td>\n",
       "      <td>0.0</td>\n",
       "      <td>0.000</td>\n",
       "      <td>...</td>\n",
       "      <td>1803.987</td>\n",
       "      <td>0.0</td>\n",
       "      <td>597.029</td>\n",
       "      <td>9.59</td>\n",
       "      <td>0.0</td>\n",
       "      <td>0.0</td>\n",
       "      <td>37.746</td>\n",
       "      <td>0.5</td>\n",
       "      <td>64.83</td>\n",
       "      <td>0.498</td>\n",
       "    </tr>\n",
       "    <tr>\n",
       "      <th>4</th>\n",
       "      <td>AFG</td>\n",
       "      <td>Asia</td>\n",
       "      <td>Afghanistan</td>\n",
       "      <td>2020-04-01</td>\n",
       "      <td>0.0</td>\n",
       "      <td>0.0</td>\n",
       "      <td>0.000</td>\n",
       "      <td>0.0</td>\n",
       "      <td>0.0</td>\n",
       "      <td>0.000</td>\n",
       "      <td>...</td>\n",
       "      <td>1803.987</td>\n",
       "      <td>0.0</td>\n",
       "      <td>597.029</td>\n",
       "      <td>9.59</td>\n",
       "      <td>0.0</td>\n",
       "      <td>0.0</td>\n",
       "      <td>37.746</td>\n",
       "      <td>0.5</td>\n",
       "      <td>64.83</td>\n",
       "      <td>0.498</td>\n",
       "    </tr>\n",
       "    <tr>\n",
       "      <th>...</th>\n",
       "      <td>...</td>\n",
       "      <td>...</td>\n",
       "      <td>...</td>\n",
       "      <td>...</td>\n",
       "      <td>...</td>\n",
       "      <td>...</td>\n",
       "      <td>...</td>\n",
       "      <td>...</td>\n",
       "      <td>...</td>\n",
       "      <td>...</td>\n",
       "      <td>...</td>\n",
       "      <td>...</td>\n",
       "      <td>...</td>\n",
       "      <td>...</td>\n",
       "      <td>...</td>\n",
       "      <td>...</td>\n",
       "      <td>...</td>\n",
       "      <td>...</td>\n",
       "      <td>...</td>\n",
       "      <td>...</td>\n",
       "      <td>...</td>\n",
       "    </tr>\n",
       "    <tr>\n",
       "      <th>56743</th>\n",
       "      <td>ZWE</td>\n",
       "      <td>Africa</td>\n",
       "      <td>Zimbabwe</td>\n",
       "      <td>2020-11-13</td>\n",
       "      <td>8696.0</td>\n",
       "      <td>29.0</td>\n",
       "      <td>36.000</td>\n",
       "      <td>255.0</td>\n",
       "      <td>0.0</td>\n",
       "      <td>1.000</td>\n",
       "      <td>...</td>\n",
       "      <td>1899.775</td>\n",
       "      <td>21.4</td>\n",
       "      <td>307.846</td>\n",
       "      <td>1.82</td>\n",
       "      <td>1.6</td>\n",
       "      <td>30.7</td>\n",
       "      <td>36.791</td>\n",
       "      <td>1.7</td>\n",
       "      <td>61.49</td>\n",
       "      <td>0.535</td>\n",
       "    </tr>\n",
       "    <tr>\n",
       "      <th>56744</th>\n",
       "      <td>ZWE</td>\n",
       "      <td>Africa</td>\n",
       "      <td>Zimbabwe</td>\n",
       "      <td>2020-11-14</td>\n",
       "      <td>8765.0</td>\n",
       "      <td>69.0</td>\n",
       "      <td>42.000</td>\n",
       "      <td>257.0</td>\n",
       "      <td>2.0</td>\n",
       "      <td>1.000</td>\n",
       "      <td>...</td>\n",
       "      <td>1899.775</td>\n",
       "      <td>21.4</td>\n",
       "      <td>307.846</td>\n",
       "      <td>1.82</td>\n",
       "      <td>1.6</td>\n",
       "      <td>30.7</td>\n",
       "      <td>36.791</td>\n",
       "      <td>1.7</td>\n",
       "      <td>61.49</td>\n",
       "      <td>0.535</td>\n",
       "    </tr>\n",
       "    <tr>\n",
       "      <th>56745</th>\n",
       "      <td>ZWE</td>\n",
       "      <td>Africa</td>\n",
       "      <td>Zimbabwe</td>\n",
       "      <td>2020-11-15</td>\n",
       "      <td>8786.0</td>\n",
       "      <td>21.0</td>\n",
       "      <td>41.143</td>\n",
       "      <td>257.0</td>\n",
       "      <td>0.0</td>\n",
       "      <td>0.857</td>\n",
       "      <td>...</td>\n",
       "      <td>1899.775</td>\n",
       "      <td>21.4</td>\n",
       "      <td>307.846</td>\n",
       "      <td>1.82</td>\n",
       "      <td>1.6</td>\n",
       "      <td>30.7</td>\n",
       "      <td>36.791</td>\n",
       "      <td>1.7</td>\n",
       "      <td>61.49</td>\n",
       "      <td>0.535</td>\n",
       "    </tr>\n",
       "    <tr>\n",
       "      <th>56746</th>\n",
       "      <td>ZWE</td>\n",
       "      <td>Africa</td>\n",
       "      <td>Zimbabwe</td>\n",
       "      <td>2020-11-16</td>\n",
       "      <td>8786.0</td>\n",
       "      <td>0.0</td>\n",
       "      <td>36.429</td>\n",
       "      <td>257.0</td>\n",
       "      <td>0.0</td>\n",
       "      <td>0.571</td>\n",
       "      <td>...</td>\n",
       "      <td>1899.775</td>\n",
       "      <td>21.4</td>\n",
       "      <td>307.846</td>\n",
       "      <td>1.82</td>\n",
       "      <td>1.6</td>\n",
       "      <td>30.7</td>\n",
       "      <td>36.791</td>\n",
       "      <td>1.7</td>\n",
       "      <td>61.49</td>\n",
       "      <td>0.535</td>\n",
       "    </tr>\n",
       "    <tr>\n",
       "      <th>56747</th>\n",
       "      <td>ZWE</td>\n",
       "      <td>Africa</td>\n",
       "      <td>Zimbabwe</td>\n",
       "      <td>2020-11-17</td>\n",
       "      <td>8897.0</td>\n",
       "      <td>111.0</td>\n",
       "      <td>48.000</td>\n",
       "      <td>257.0</td>\n",
       "      <td>0.0</td>\n",
       "      <td>0.429</td>\n",
       "      <td>...</td>\n",
       "      <td>1899.775</td>\n",
       "      <td>21.4</td>\n",
       "      <td>307.846</td>\n",
       "      <td>1.82</td>\n",
       "      <td>1.6</td>\n",
       "      <td>30.7</td>\n",
       "      <td>36.791</td>\n",
       "      <td>1.7</td>\n",
       "      <td>61.49</td>\n",
       "      <td>0.535</td>\n",
       "    </tr>\n",
       "  </tbody>\n",
       "</table>\n",
       "<p>56748 rows × 49 columns</p>\n",
       "</div>"
      ],
      "text/plain": [
       "      iso_code continent     location       date  total_cases  new_cases  \\\n",
       "0          AFG      Asia  Afghanistan 2019-12-31          0.0        0.0   \n",
       "1          AFG      Asia  Afghanistan 2020-01-01          0.0        0.0   \n",
       "2          AFG      Asia  Afghanistan 2020-02-01          0.0        0.0   \n",
       "3          AFG      Asia  Afghanistan 2020-03-01          0.0        0.0   \n",
       "4          AFG      Asia  Afghanistan 2020-04-01          0.0        0.0   \n",
       "...        ...       ...          ...        ...          ...        ...   \n",
       "56743      ZWE    Africa     Zimbabwe 2020-11-13       8696.0       29.0   \n",
       "56744      ZWE    Africa     Zimbabwe 2020-11-14       8765.0       69.0   \n",
       "56745      ZWE    Africa     Zimbabwe 2020-11-15       8786.0       21.0   \n",
       "56746      ZWE    Africa     Zimbabwe 2020-11-16       8786.0        0.0   \n",
       "56747      ZWE    Africa     Zimbabwe 2020-11-17       8897.0      111.0   \n",
       "\n",
       "       new_cases_smoothed  total_deaths  new_deaths  new_deaths_smoothed  ...  \\\n",
       "0                   0.000           0.0         0.0                0.000  ...   \n",
       "1                   0.000           0.0         0.0                0.000  ...   \n",
       "2                   0.000           0.0         0.0                0.000  ...   \n",
       "3                   0.000           0.0         0.0                0.000  ...   \n",
       "4                   0.000           0.0         0.0                0.000  ...   \n",
       "...                   ...           ...         ...                  ...  ...   \n",
       "56743              36.000         255.0         0.0                1.000  ...   \n",
       "56744              42.000         257.0         2.0                1.000  ...   \n",
       "56745              41.143         257.0         0.0                0.857  ...   \n",
       "56746              36.429         257.0         0.0                0.571  ...   \n",
       "56747              48.000         257.0         0.0                0.429  ...   \n",
       "\n",
       "       gdp_per_capita  extreme_poverty  cardiovasc_death_rate  \\\n",
       "0            1803.987              0.0                597.029   \n",
       "1            1803.987              0.0                597.029   \n",
       "2            1803.987              0.0                597.029   \n",
       "3            1803.987              0.0                597.029   \n",
       "4            1803.987              0.0                597.029   \n",
       "...               ...              ...                    ...   \n",
       "56743        1899.775             21.4                307.846   \n",
       "56744        1899.775             21.4                307.846   \n",
       "56745        1899.775             21.4                307.846   \n",
       "56746        1899.775             21.4                307.846   \n",
       "56747        1899.775             21.4                307.846   \n",
       "\n",
       "       diabetes_prevalence  female_smokers  male_smokers  \\\n",
       "0                     9.59             0.0           0.0   \n",
       "1                     9.59             0.0           0.0   \n",
       "2                     9.59             0.0           0.0   \n",
       "3                     9.59             0.0           0.0   \n",
       "4                     9.59             0.0           0.0   \n",
       "...                    ...             ...           ...   \n",
       "56743                 1.82             1.6          30.7   \n",
       "56744                 1.82             1.6          30.7   \n",
       "56745                 1.82             1.6          30.7   \n",
       "56746                 1.82             1.6          30.7   \n",
       "56747                 1.82             1.6          30.7   \n",
       "\n",
       "       handwashing_facilities  hospital_beds_per_thousand  life_expectancy  \\\n",
       "0                      37.746                         0.5            64.83   \n",
       "1                      37.746                         0.5            64.83   \n",
       "2                      37.746                         0.5            64.83   \n",
       "3                      37.746                         0.5            64.83   \n",
       "4                      37.746                         0.5            64.83   \n",
       "...                       ...                         ...              ...   \n",
       "56743                  36.791                         1.7            61.49   \n",
       "56744                  36.791                         1.7            61.49   \n",
       "56745                  36.791                         1.7            61.49   \n",
       "56746                  36.791                         1.7            61.49   \n",
       "56747                  36.791                         1.7            61.49   \n",
       "\n",
       "       human_development_index  \n",
       "0                        0.498  \n",
       "1                        0.498  \n",
       "2                        0.498  \n",
       "3                        0.498  \n",
       "4                        0.498  \n",
       "...                        ...  \n",
       "56743                    0.535  \n",
       "56744                    0.535  \n",
       "56745                    0.535  \n",
       "56746                    0.535  \n",
       "56747                    0.535  \n",
       "\n",
       "[56748 rows x 49 columns]"
      ]
     },
     "execution_count": 45,
     "metadata": {},
     "output_type": "execute_result"
    }
   ],
   "source": [
    "# a. Convert date column in datetime format using pandas.to_datetime\n",
    "df[\"date\"]=pd.to_datetime(df[\"date\"])\n",
    "df"
   ]
  },
  {
   "cell_type": "code",
   "execution_count": 46,
   "id": "91da9a4e",
   "metadata": {},
   "outputs": [
    {
     "data": {
      "text/plain": [
       "iso_code                                      object\n",
       "continent                                     object\n",
       "location                                      object\n",
       "date                                  datetime64[ns]\n",
       "total_cases                                  float64\n",
       "new_cases                                    float64\n",
       "new_cases_smoothed                           float64\n",
       "total_deaths                                 float64\n",
       "new_deaths                                   float64\n",
       "new_deaths_smoothed                          float64\n",
       "total_cases_per_million                      float64\n",
       "new_cases_per_million                        float64\n",
       "new_cases_smoothed_per_million               float64\n",
       "total_deaths_per_million                     float64\n",
       "new_deaths_per_million                       float64\n",
       "new_deaths_smoothed_per_million              float64\n",
       "reproduction_rate                            float64\n",
       "icu_patients                                 float64\n",
       "icu_patients_per_million                     float64\n",
       "hosp_patients                                float64\n",
       "hosp_patients_per_million                    float64\n",
       "weekly_icu_admissions                        float64\n",
       "weekly_icu_admissions_per_million            float64\n",
       "weekly_hosp_admissions                       float64\n",
       "weekly_hosp_admissions_per_million           float64\n",
       "total_tests                                  float64\n",
       "new_tests                                    float64\n",
       "total_tests_per_thousand                     float64\n",
       "new_tests_per_thousand                       float64\n",
       "new_tests_smoothed                           float64\n",
       "new_tests_smoothed_per_thousand              float64\n",
       "tests_per_case                               float64\n",
       "positive_rate                                float64\n",
       "stringency_index                             float64\n",
       "population                                   float64\n",
       "population_density                           float64\n",
       "median_age                                   float64\n",
       "aged_65_older                                float64\n",
       "aged_70_older                                float64\n",
       "gdp_per_capita                               float64\n",
       "extreme_poverty                              float64\n",
       "cardiovasc_death_rate                        float64\n",
       "diabetes_prevalence                          float64\n",
       "female_smokers                               float64\n",
       "male_smokers                                 float64\n",
       "handwashing_facilities                       float64\n",
       "hospital_beds_per_thousand                   float64\n",
       "life_expectancy                              float64\n",
       "human_development_index                      float64\n",
       "dtype: object"
      ]
     },
     "execution_count": 46,
     "metadata": {},
     "output_type": "execute_result"
    }
   ],
   "source": [
    "#Checking after conversion\n",
    "df.dtypes"
   ]
  },
  {
   "cell_type": "code",
   "execution_count": 47,
   "id": "3fe4c5d6",
   "metadata": {},
   "outputs": [],
   "source": [
    "# Create new column month after extracting month data from date column.\n",
    "df['month']=df['date'].dt.month"
   ]
  },
  {
   "cell_type": "code",
   "execution_count": 48,
   "id": "0be8c5b6",
   "metadata": {},
   "outputs": [
    {
     "data": {
      "text/plain": [
       "0        12\n",
       "1         1\n",
       "2         2\n",
       "3         3\n",
       "4         4\n",
       "         ..\n",
       "56743    11\n",
       "56744    11\n",
       "56745    11\n",
       "56746    11\n",
       "56747    11\n",
       "Name: month, Length: 56748, dtype: int64"
      ]
     },
     "execution_count": 48,
     "metadata": {},
     "output_type": "execute_result"
    }
   ],
   "source": [
    "df[\"month\"]"
   ]
  },
  {
   "cell_type": "markdown",
   "id": "84f2e030",
   "metadata": {},
   "source": [
    "# 7. Data Aggregation"
   ]
  },
  {
   "cell_type": "code",
   "execution_count": 52,
   "id": "a97147f0",
   "metadata": {},
   "outputs": [
    {
     "data": {
      "text/plain": [
       "Europe           14828\n",
       "Africa           13637\n",
       "Asia             13528\n",
       "North America     9116\n",
       "South America     3404\n",
       "Oceania           2235\n",
       "Name: continent, dtype: int64"
      ]
     },
     "execution_count": 52,
     "metadata": {},
     "output_type": "execute_result"
    }
   ],
   "source": [
    "df['continent'].value_counts()"
   ]
  },
  {
   "cell_type": "code",
   "execution_count": 53,
   "id": "3ccc0211",
   "metadata": {},
   "outputs": [
    {
     "data": {
      "text/html": [
       "<div>\n",
       "<style scoped>\n",
       "    .dataframe tbody tr th:only-of-type {\n",
       "        vertical-align: middle;\n",
       "    }\n",
       "\n",
       "    .dataframe tbody tr th {\n",
       "        vertical-align: top;\n",
       "    }\n",
       "\n",
       "    .dataframe thead th {\n",
       "        text-align: right;\n",
       "    }\n",
       "</style>\n",
       "<table border=\"1\" class=\"dataframe\">\n",
       "  <thead>\n",
       "    <tr style=\"text-align: right;\">\n",
       "      <th></th>\n",
       "      <th>continent</th>\n",
       "      <th>iso_code</th>\n",
       "      <th>location</th>\n",
       "      <th>date</th>\n",
       "      <th>total_cases</th>\n",
       "      <th>new_cases</th>\n",
       "      <th>new_cases_smoothed</th>\n",
       "      <th>total_deaths</th>\n",
       "      <th>new_deaths</th>\n",
       "      <th>new_deaths_smoothed</th>\n",
       "      <th>...</th>\n",
       "      <th>extreme_poverty</th>\n",
       "      <th>cardiovasc_death_rate</th>\n",
       "      <th>diabetes_prevalence</th>\n",
       "      <th>female_smokers</th>\n",
       "      <th>male_smokers</th>\n",
       "      <th>handwashing_facilities</th>\n",
       "      <th>hospital_beds_per_thousand</th>\n",
       "      <th>life_expectancy</th>\n",
       "      <th>human_development_index</th>\n",
       "      <th>month</th>\n",
       "    </tr>\n",
       "  </thead>\n",
       "  <tbody>\n",
       "    <tr>\n",
       "      <th>0</th>\n",
       "      <td>Africa</td>\n",
       "      <td>ZWE</td>\n",
       "      <td>Zimbabwe</td>\n",
       "      <td>2020-12-11</td>\n",
       "      <td>752269.0</td>\n",
       "      <td>13944.0</td>\n",
       "      <td>12583.714</td>\n",
       "      <td>20314.0</td>\n",
       "      <td>572.0</td>\n",
       "      <td>297.429</td>\n",
       "      <td>...</td>\n",
       "      <td>77.6</td>\n",
       "      <td>525.432</td>\n",
       "      <td>22.02</td>\n",
       "      <td>9.7</td>\n",
       "      <td>65.8</td>\n",
       "      <td>89.827</td>\n",
       "      <td>6.30</td>\n",
       "      <td>76.88</td>\n",
       "      <td>0.797</td>\n",
       "      <td>12</td>\n",
       "    </tr>\n",
       "    <tr>\n",
       "      <th>1</th>\n",
       "      <td>Asia</td>\n",
       "      <td>YEM</td>\n",
       "      <td>Yemen</td>\n",
       "      <td>2020-12-11</td>\n",
       "      <td>8874290.0</td>\n",
       "      <td>97894.0</td>\n",
       "      <td>93198.571</td>\n",
       "      <td>130519.0</td>\n",
       "      <td>2003.0</td>\n",
       "      <td>1168.000</td>\n",
       "      <td>...</td>\n",
       "      <td>30.3</td>\n",
       "      <td>724.417</td>\n",
       "      <td>17.72</td>\n",
       "      <td>26.9</td>\n",
       "      <td>78.1</td>\n",
       "      <td>98.999</td>\n",
       "      <td>13.05</td>\n",
       "      <td>84.86</td>\n",
       "      <td>0.933</td>\n",
       "      <td>12</td>\n",
       "    </tr>\n",
       "    <tr>\n",
       "      <th>2</th>\n",
       "      <td>Europe</td>\n",
       "      <td>VAT</td>\n",
       "      <td>Vatican</td>\n",
       "      <td>2020-12-11</td>\n",
       "      <td>1991233.0</td>\n",
       "      <td>86852.0</td>\n",
       "      <td>54868.571</td>\n",
       "      <td>52147.0</td>\n",
       "      <td>2004.0</td>\n",
       "      <td>1101.000</td>\n",
       "      <td>...</td>\n",
       "      <td>5.7</td>\n",
       "      <td>539.849</td>\n",
       "      <td>10.08</td>\n",
       "      <td>44.0</td>\n",
       "      <td>58.3</td>\n",
       "      <td>97.719</td>\n",
       "      <td>13.80</td>\n",
       "      <td>86.75</td>\n",
       "      <td>0.953</td>\n",
       "      <td>12</td>\n",
       "    </tr>\n",
       "    <tr>\n",
       "      <th>3</th>\n",
       "      <td>North America</td>\n",
       "      <td>VIR</td>\n",
       "      <td>United States Virgin Islands</td>\n",
       "      <td>2020-12-11</td>\n",
       "      <td>11205486.0</td>\n",
       "      <td>184813.0</td>\n",
       "      <td>156419.143</td>\n",
       "      <td>247220.0</td>\n",
       "      <td>4928.0</td>\n",
       "      <td>2715.143</td>\n",
       "      <td>...</td>\n",
       "      <td>23.5</td>\n",
       "      <td>430.548</td>\n",
       "      <td>17.11</td>\n",
       "      <td>19.1</td>\n",
       "      <td>53.3</td>\n",
       "      <td>90.650</td>\n",
       "      <td>5.80</td>\n",
       "      <td>83.92</td>\n",
       "      <td>0.926</td>\n",
       "      <td>12</td>\n",
       "    </tr>\n",
       "    <tr>\n",
       "      <th>4</th>\n",
       "      <td>Oceania</td>\n",
       "      <td>WLF</td>\n",
       "      <td>Wallis and Futuna</td>\n",
       "      <td>2020-12-11</td>\n",
       "      <td>27750.0</td>\n",
       "      <td>1384.0</td>\n",
       "      <td>551.714</td>\n",
       "      <td>907.0</td>\n",
       "      <td>59.0</td>\n",
       "      <td>22.000</td>\n",
       "      <td>...</td>\n",
       "      <td>25.1</td>\n",
       "      <td>561.494</td>\n",
       "      <td>30.53</td>\n",
       "      <td>23.5</td>\n",
       "      <td>48.8</td>\n",
       "      <td>82.502</td>\n",
       "      <td>3.84</td>\n",
       "      <td>83.44</td>\n",
       "      <td>0.939</td>\n",
       "      <td>12</td>\n",
       "    </tr>\n",
       "    <tr>\n",
       "      <th>5</th>\n",
       "      <td>South America</td>\n",
       "      <td>VEN</td>\n",
       "      <td>Venezuela</td>\n",
       "      <td>2020-12-11</td>\n",
       "      <td>5876464.0</td>\n",
       "      <td>69074.0</td>\n",
       "      <td>46393.000</td>\n",
       "      <td>166014.0</td>\n",
       "      <td>3935.0</td>\n",
       "      <td>1096.714</td>\n",
       "      <td>...</td>\n",
       "      <td>7.1</td>\n",
       "      <td>373.159</td>\n",
       "      <td>12.54</td>\n",
       "      <td>34.2</td>\n",
       "      <td>42.9</td>\n",
       "      <td>80.635</td>\n",
       "      <td>5.00</td>\n",
       "      <td>81.44</td>\n",
       "      <td>0.843</td>\n",
       "      <td>12</td>\n",
       "    </tr>\n",
       "  </tbody>\n",
       "</table>\n",
       "<p>6 rows × 50 columns</p>\n",
       "</div>"
      ],
      "text/plain": [
       "       continent iso_code                      location       date  \\\n",
       "0         Africa      ZWE                      Zimbabwe 2020-12-11   \n",
       "1           Asia      YEM                         Yemen 2020-12-11   \n",
       "2         Europe      VAT                       Vatican 2020-12-11   \n",
       "3  North America      VIR  United States Virgin Islands 2020-12-11   \n",
       "4        Oceania      WLF             Wallis and Futuna 2020-12-11   \n",
       "5  South America      VEN                     Venezuela 2020-12-11   \n",
       "\n",
       "   total_cases  new_cases  new_cases_smoothed  total_deaths  new_deaths  \\\n",
       "0     752269.0    13944.0           12583.714       20314.0       572.0   \n",
       "1    8874290.0    97894.0           93198.571      130519.0      2003.0   \n",
       "2    1991233.0    86852.0           54868.571       52147.0      2004.0   \n",
       "3   11205486.0   184813.0          156419.143      247220.0      4928.0   \n",
       "4      27750.0     1384.0             551.714         907.0        59.0   \n",
       "5    5876464.0    69074.0           46393.000      166014.0      3935.0   \n",
       "\n",
       "   new_deaths_smoothed  ...  extreme_poverty  cardiovasc_death_rate  \\\n",
       "0              297.429  ...             77.6                525.432   \n",
       "1             1168.000  ...             30.3                724.417   \n",
       "2             1101.000  ...              5.7                539.849   \n",
       "3             2715.143  ...             23.5                430.548   \n",
       "4               22.000  ...             25.1                561.494   \n",
       "5             1096.714  ...              7.1                373.159   \n",
       "\n",
       "   diabetes_prevalence  female_smokers  male_smokers  handwashing_facilities  \\\n",
       "0                22.02             9.7          65.8                  89.827   \n",
       "1                17.72            26.9          78.1                  98.999   \n",
       "2                10.08            44.0          58.3                  97.719   \n",
       "3                17.11            19.1          53.3                  90.650   \n",
       "4                30.53            23.5          48.8                  82.502   \n",
       "5                12.54            34.2          42.9                  80.635   \n",
       "\n",
       "   hospital_beds_per_thousand  life_expectancy  human_development_index  month  \n",
       "0                        6.30            76.88                    0.797     12  \n",
       "1                       13.05            84.86                    0.933     12  \n",
       "2                       13.80            86.75                    0.953     12  \n",
       "3                        5.80            83.92                    0.926     12  \n",
       "4                        3.84            83.44                    0.939     12  \n",
       "5                        5.00            81.44                    0.843     12  \n",
       "\n",
       "[6 rows x 50 columns]"
      ]
     },
     "execution_count": 53,
     "metadata": {},
     "output_type": "execute_result"
    }
   ],
   "source": [
    "# a. Find max value in all columns using groupby function on 'continent' column\n",
    "# Tip: use reset_index() after applying groupby\n",
    "df.groupby(\"continent\").max().reset_index()"
   ]
  },
  {
   "cell_type": "code",
   "execution_count": 54,
   "id": "90404ef4",
   "metadata": {},
   "outputs": [],
   "source": [
    "# saving the above result in new data frame\n",
    "df_groupby=df.groupby(\"continent\").max().reset_index()"
   ]
  },
  {
   "cell_type": "code",
   "execution_count": 55,
   "id": "e2f544ba",
   "metadata": {},
   "outputs": [
    {
     "data": {
      "text/html": [
       "<div>\n",
       "<style scoped>\n",
       "    .dataframe tbody tr th:only-of-type {\n",
       "        vertical-align: middle;\n",
       "    }\n",
       "\n",
       "    .dataframe tbody tr th {\n",
       "        vertical-align: top;\n",
       "    }\n",
       "\n",
       "    .dataframe thead th {\n",
       "        text-align: right;\n",
       "    }\n",
       "</style>\n",
       "<table border=\"1\" class=\"dataframe\">\n",
       "  <thead>\n",
       "    <tr style=\"text-align: right;\">\n",
       "      <th></th>\n",
       "      <th>continent</th>\n",
       "      <th>iso_code</th>\n",
       "      <th>location</th>\n",
       "      <th>date</th>\n",
       "      <th>total_cases</th>\n",
       "      <th>new_cases</th>\n",
       "      <th>new_cases_smoothed</th>\n",
       "      <th>total_deaths</th>\n",
       "      <th>new_deaths</th>\n",
       "      <th>new_deaths_smoothed</th>\n",
       "      <th>...</th>\n",
       "      <th>extreme_poverty</th>\n",
       "      <th>cardiovasc_death_rate</th>\n",
       "      <th>diabetes_prevalence</th>\n",
       "      <th>female_smokers</th>\n",
       "      <th>male_smokers</th>\n",
       "      <th>handwashing_facilities</th>\n",
       "      <th>hospital_beds_per_thousand</th>\n",
       "      <th>life_expectancy</th>\n",
       "      <th>human_development_index</th>\n",
       "      <th>month</th>\n",
       "    </tr>\n",
       "  </thead>\n",
       "  <tbody>\n",
       "    <tr>\n",
       "      <th>0</th>\n",
       "      <td>Africa</td>\n",
       "      <td>ZWE</td>\n",
       "      <td>Zimbabwe</td>\n",
       "      <td>2020-12-11</td>\n",
       "      <td>752269.0</td>\n",
       "      <td>13944.0</td>\n",
       "      <td>12583.714</td>\n",
       "      <td>20314.0</td>\n",
       "      <td>572.0</td>\n",
       "      <td>297.429</td>\n",
       "      <td>...</td>\n",
       "      <td>77.6</td>\n",
       "      <td>525.432</td>\n",
       "      <td>22.02</td>\n",
       "      <td>9.7</td>\n",
       "      <td>65.8</td>\n",
       "      <td>89.827</td>\n",
       "      <td>6.30</td>\n",
       "      <td>76.88</td>\n",
       "      <td>0.797</td>\n",
       "      <td>12</td>\n",
       "    </tr>\n",
       "    <tr>\n",
       "      <th>1</th>\n",
       "      <td>Asia</td>\n",
       "      <td>YEM</td>\n",
       "      <td>Yemen</td>\n",
       "      <td>2020-12-11</td>\n",
       "      <td>8874290.0</td>\n",
       "      <td>97894.0</td>\n",
       "      <td>93198.571</td>\n",
       "      <td>130519.0</td>\n",
       "      <td>2003.0</td>\n",
       "      <td>1168.000</td>\n",
       "      <td>...</td>\n",
       "      <td>30.3</td>\n",
       "      <td>724.417</td>\n",
       "      <td>17.72</td>\n",
       "      <td>26.9</td>\n",
       "      <td>78.1</td>\n",
       "      <td>98.999</td>\n",
       "      <td>13.05</td>\n",
       "      <td>84.86</td>\n",
       "      <td>0.933</td>\n",
       "      <td>12</td>\n",
       "    </tr>\n",
       "    <tr>\n",
       "      <th>2</th>\n",
       "      <td>Europe</td>\n",
       "      <td>VAT</td>\n",
       "      <td>Vatican</td>\n",
       "      <td>2020-12-11</td>\n",
       "      <td>1991233.0</td>\n",
       "      <td>86852.0</td>\n",
       "      <td>54868.571</td>\n",
       "      <td>52147.0</td>\n",
       "      <td>2004.0</td>\n",
       "      <td>1101.000</td>\n",
       "      <td>...</td>\n",
       "      <td>5.7</td>\n",
       "      <td>539.849</td>\n",
       "      <td>10.08</td>\n",
       "      <td>44.0</td>\n",
       "      <td>58.3</td>\n",
       "      <td>97.719</td>\n",
       "      <td>13.80</td>\n",
       "      <td>86.75</td>\n",
       "      <td>0.953</td>\n",
       "      <td>12</td>\n",
       "    </tr>\n",
       "    <tr>\n",
       "      <th>3</th>\n",
       "      <td>North America</td>\n",
       "      <td>VIR</td>\n",
       "      <td>United States Virgin Islands</td>\n",
       "      <td>2020-12-11</td>\n",
       "      <td>11205486.0</td>\n",
       "      <td>184813.0</td>\n",
       "      <td>156419.143</td>\n",
       "      <td>247220.0</td>\n",
       "      <td>4928.0</td>\n",
       "      <td>2715.143</td>\n",
       "      <td>...</td>\n",
       "      <td>23.5</td>\n",
       "      <td>430.548</td>\n",
       "      <td>17.11</td>\n",
       "      <td>19.1</td>\n",
       "      <td>53.3</td>\n",
       "      <td>90.650</td>\n",
       "      <td>5.80</td>\n",
       "      <td>83.92</td>\n",
       "      <td>0.926</td>\n",
       "      <td>12</td>\n",
       "    </tr>\n",
       "    <tr>\n",
       "      <th>4</th>\n",
       "      <td>Oceania</td>\n",
       "      <td>WLF</td>\n",
       "      <td>Wallis and Futuna</td>\n",
       "      <td>2020-12-11</td>\n",
       "      <td>27750.0</td>\n",
       "      <td>1384.0</td>\n",
       "      <td>551.714</td>\n",
       "      <td>907.0</td>\n",
       "      <td>59.0</td>\n",
       "      <td>22.000</td>\n",
       "      <td>...</td>\n",
       "      <td>25.1</td>\n",
       "      <td>561.494</td>\n",
       "      <td>30.53</td>\n",
       "      <td>23.5</td>\n",
       "      <td>48.8</td>\n",
       "      <td>82.502</td>\n",
       "      <td>3.84</td>\n",
       "      <td>83.44</td>\n",
       "      <td>0.939</td>\n",
       "      <td>12</td>\n",
       "    </tr>\n",
       "  </tbody>\n",
       "</table>\n",
       "<p>5 rows × 50 columns</p>\n",
       "</div>"
      ],
      "text/plain": [
       "       continent iso_code                      location       date  \\\n",
       "0         Africa      ZWE                      Zimbabwe 2020-12-11   \n",
       "1           Asia      YEM                         Yemen 2020-12-11   \n",
       "2         Europe      VAT                       Vatican 2020-12-11   \n",
       "3  North America      VIR  United States Virgin Islands 2020-12-11   \n",
       "4        Oceania      WLF             Wallis and Futuna 2020-12-11   \n",
       "\n",
       "   total_cases  new_cases  new_cases_smoothed  total_deaths  new_deaths  \\\n",
       "0     752269.0    13944.0           12583.714       20314.0       572.0   \n",
       "1    8874290.0    97894.0           93198.571      130519.0      2003.0   \n",
       "2    1991233.0    86852.0           54868.571       52147.0      2004.0   \n",
       "3   11205486.0   184813.0          156419.143      247220.0      4928.0   \n",
       "4      27750.0     1384.0             551.714         907.0        59.0   \n",
       "\n",
       "   new_deaths_smoothed  ...  extreme_poverty  cardiovasc_death_rate  \\\n",
       "0              297.429  ...             77.6                525.432   \n",
       "1             1168.000  ...             30.3                724.417   \n",
       "2             1101.000  ...              5.7                539.849   \n",
       "3             2715.143  ...             23.5                430.548   \n",
       "4               22.000  ...             25.1                561.494   \n",
       "\n",
       "   diabetes_prevalence  female_smokers  male_smokers  handwashing_facilities  \\\n",
       "0                22.02             9.7          65.8                  89.827   \n",
       "1                17.72            26.9          78.1                  98.999   \n",
       "2                10.08            44.0          58.3                  97.719   \n",
       "3                17.11            19.1          53.3                  90.650   \n",
       "4                30.53            23.5          48.8                  82.502   \n",
       "\n",
       "   hospital_beds_per_thousand  life_expectancy  human_development_index  month  \n",
       "0                        6.30            76.88                    0.797     12  \n",
       "1                       13.05            84.86                    0.933     12  \n",
       "2                       13.80            86.75                    0.953     12  \n",
       "3                        5.80            83.92                    0.926     12  \n",
       "4                        3.84            83.44                    0.939     12  \n",
       "\n",
       "[5 rows x 50 columns]"
      ]
     },
     "execution_count": 55,
     "metadata": {},
     "output_type": "execute_result"
    }
   ],
   "source": [
    "df_groupby.head()"
   ]
  },
  {
   "cell_type": "markdown",
   "id": "a2287ead",
   "metadata": {},
   "source": [
    "# 8. Feature Engineering"
   ]
  },
  {
   "cell_type": "code",
   "execution_count": 56,
   "id": "010ab34c",
   "metadata": {},
   "outputs": [],
   "source": [
    "#a. Create a new feature 'total_deaths_to_total_cases' by ratio of 'total_deaths' column to 'total_cases'\n",
    "df_groupby[\"total_deaths_to_total_cases\"]=(df_groupby[\"total_deaths\"]/df_groupby[\"total_cases\"])*100"
   ]
  },
  {
   "cell_type": "code",
   "execution_count": 57,
   "id": "684a0903",
   "metadata": {},
   "outputs": [
    {
     "data": {
      "text/plain": [
       "0    2.700364\n",
       "1    1.470754\n",
       "2    2.618830\n",
       "3    2.206241\n",
       "4    3.268468\n",
       "5    2.825066\n",
       "Name: total_deaths_to_total_cases, dtype: float64"
      ]
     },
     "execution_count": 57,
     "metadata": {},
     "output_type": "execute_result"
    }
   ],
   "source": [
    "df_groupby[\"total_deaths_to_total_cases\"]"
   ]
  },
  {
   "cell_type": "markdown",
   "id": "b219c091",
   "metadata": {},
   "source": [
    "# 9. Data Visualiztion"
   ]
  },
  {
   "cell_type": "code",
   "execution_count": 58,
   "id": "fa5df9d8",
   "metadata": {},
   "outputs": [],
   "source": [
    "#for ignoring future warnigs\n",
    "import warnings\n",
    "warnings.filterwarnings(\"ignore\")"
   ]
  },
  {
   "cell_type": "code",
   "execution_count": 68,
   "id": "4dc1f326",
   "metadata": {
    "scrolled": true
   },
   "outputs": [
    {
     "data": {
      "text/plain": [
       "array([[<AxesSubplot:title={'center':'gdp_per_capita'}>]], dtype=object)"
      ]
     },
     "execution_count": 68,
     "metadata": {},
     "output_type": "execute_result"
    },
    {
     "data": {
      "image/png": "[encoded data removed]",
      "text/plain": [
       "<Figure size 432x288 with 1 Axes>"
      ]
     },
     "metadata": {
      "needs_background": "light"
     },
     "output_type": "display_data"
    }
   ],
   "source": [
    "#ploting histograph of gdp_per_capita\n",
    "\n",
    "df.hist(column=\"gdp_per_capita\")"
   ]
  },
  {
   "cell_type": "code",
   "execution_count": 69,
   "id": "e2e1f115",
   "metadata": {},
   "outputs": [
    {
     "data": {
      "image/png": "[encoded data removed]",
      "text/plain": [
       "<Figure size 432x288 with 1 Axes>"
      ]
     },
     "metadata": {
      "needs_background": "light"
     },
     "output_type": "display_data"
    }
   ],
   "source": [
    "# Perform Univariate analysis on 'gdp_per_capita' column by plotting histogram using seaborn dist plot.\n",
    "dist_plot1=sb.distplot(df[\"gdp_per_capita\"])\n"
   ]
  },
  {
   "cell_type": "code",
   "execution_count": 70,
   "id": "4be0a513",
   "metadata": {},
   "outputs": [
    {
     "data": {
      "image/png": "[encoded data removed]",
      "text/plain": [
       "<Figure size 432x288 with 1 Axes>"
      ]
     },
     "metadata": {
      "needs_background": "light"
     },
     "output_type": "display_data"
    }
   ],
   "source": [
    "# Perform Univariate analysis on 'gdp_per_capita' column by plotting histogram using seaborn dist plot.\n",
    "dist_plot2=sb.distplot(df_groupby[\"gdp_per_capita\"])\n"
   ]
  },
  {
   "cell_type": "code",
   "execution_count": 71,
   "id": "eccc15b6",
   "metadata": {},
   "outputs": [],
   "source": [
    "#to get image of graph in jpg format\n",
    "dist_plot1.get_figure().savefig(\"9_a1.jpg\")"
   ]
  },
  {
   "cell_type": "code",
   "execution_count": 72,
   "id": "5ede5460",
   "metadata": {},
   "outputs": [],
   "source": [
    "#to get image of graph in jpg format\n",
    "dist_plot2.get_figure().savefig(\"9_a2.jpg\")"
   ]
  },
  {
   "cell_type": "code",
   "execution_count": 73,
   "id": "8a806821",
   "metadata": {},
   "outputs": [
    {
     "data": {
      "image/png": "[encoded data removed]",
      "text/plain": [
       "<Figure size 432x288 with 1 Axes>"
      ]
     },
     "metadata": {
      "needs_background": "light"
     },
     "output_type": "display_data"
    }
   ],
   "source": [
    "#Plot a scatter plot of 'total_cases' & 'gdp_per_capita' \n",
    "scatter_plot1=sb.scatterplot(x=df[\"total_cases\"],y=df[\"gdp_per_capita\"])"
   ]
  },
  {
   "cell_type": "code",
   "execution_count": 74,
   "id": "aeed6cdf",
   "metadata": {},
   "outputs": [
    {
     "data": {
      "image/png": "[encoded data removed]",
      "text/plain": [
       "<Figure size 432x288 with 1 Axes>"
      ]
     },
     "metadata": {
      "needs_background": "light"
     },
     "output_type": "display_data"
    }
   ],
   "source": [
    "#Plot a scatter plot of 'total_cases' & 'gdp_per_capita' \n",
    "scatter_plot2=sb.scatterplot(x=df_groupby[\"total_cases\"],y=df_groupby[\"gdp_per_capita\"])"
   ]
  },
  {
   "cell_type": "code",
   "execution_count": 75,
   "id": "91aaea2b",
   "metadata": {},
   "outputs": [],
   "source": [
    "#to get image of graph in jpg format\n",
    "scatter_plot1.get_figure().savefig(\"9_b1.jpg\")"
   ]
  },
  {
   "cell_type": "code",
   "execution_count": 76,
   "id": "4586f7e3",
   "metadata": {},
   "outputs": [],
   "source": [
    "#to get image of graph in jpg format\n",
    "scatter_plot1.get_figure().savefig(\"9_b2.jpg\")"
   ]
  },
  {
   "cell_type": "code",
   "execution_count": 77,
   "id": "ecb2a56e",
   "metadata": {},
   "outputs": [],
   "source": [
    "#c. Plot Pairplot on df_groupby dataset\n",
    "#pair_plot1=sb.pairplot(df_groupby)"
   ]
  },
  {
   "cell_type": "code",
   "execution_count": 78,
   "id": "c5686ea7",
   "metadata": {},
   "outputs": [
    {
     "data": {
      "image/png": "[encoded data removed]",
      "text/plain": [
       "<Figure size 720x360 with 1 Axes>"
      ]
     },
     "metadata": {
      "needs_background": "light"
     },
     "output_type": "display_data"
    }
   ],
   "source": [
    "#Plot a bar plot of 'continent' column with 'total_cases'.\n",
    "bar_plot1=sb.catplot(data=df,x=\"continent\",y=\"total_cases\",kind=\"bar\",aspect=2.0)"
   ]
  },
  {
   "cell_type": "code",
   "execution_count": 79,
   "id": "930293ec",
   "metadata": {},
   "outputs": [
    {
     "data": {
      "image/png": "[encoded data removed]",
      "text/plain": [
       "<Figure size 720x360 with 1 Axes>"
      ]
     },
     "metadata": {
      "needs_background": "light"
     },
     "output_type": "display_data"
    }
   ],
   "source": [
    "#Plot a bar plot of 'continent' column with 'total_cases'.\n",
    "bar_plot2=sb.catplot(data=df_groupby,x=\"continent\",y=\"total_cases\",kind=\"bar\",aspect=2.0)"
   ]
  },
  {
   "cell_type": "markdown",
   "id": "22965dd5",
   "metadata": {},
   "source": [
    "# 10.Save the df_groupby dataframe in your local drive using pandas.to_csv function "
   ]
  },
  {
   "cell_type": "code",
   "execution_count": 80,
   "id": "a0dbe944",
   "metadata": {},
   "outputs": [],
   "source": [
    "df_groupby.to_csv('COVID-19_grouped_data.csv')"
   ]
  },
  {
   "cell_type": "code",
   "execution_count": 81,
   "id": "41fa2cf7",
   "metadata": {},
   "outputs": [
    {
     "name": "stdout",
     "output_type": "stream",
     "text": [
      "Number of rows in df_groupby dataset=  6\n"
     ]
    }
   ],
   "source": [
    "print(\"Number of rows in df_groupby dataset= \",df_groupby.shape[0])"
   ]
  },
  {
   "cell_type": "code",
   "execution_count": 82,
   "id": "2f0ed5ad",
   "metadata": {},
   "outputs": [
    {
     "name": "stdout",
     "output_type": "stream",
     "text": [
      "Number of columns in df_groupby dataset=  51\n"
     ]
    }
   ],
   "source": [
    "print(\"Number of columns in df_groupby dataset= \",df_groupby.shape[1])"
   ]
  },
  {
   "cell_type": "code",
   "execution_count": null,
   "id": "559e9d1b",
   "metadata": {},
   "outputs": [],
   "source": []
  },
  {
   "cell_type": "code",
   "execution_count": null,
   "id": "985aa2e0",
   "metadata": {},
   "outputs": [],
   "source": []
  },
  {
   "cell_type": "code",
   "execution_count": null,
   "id": "e4d8ffd7",
   "metadata": {},
   "outputs": [],
   "source": []
  }
 ],
 "metadata": {
  "kernelspec": {
   "display_name": "Python 3 (ipykernel)",
   "language": "python",
   "name": "python3"
  },
  "language_info": {
   "codemirror_mode": {
    "name": "ipython",
    "version": 3
   },
   "file_extension": ".py",
   "mimetype": "text/x-python",
   "name": "python",
   "nbconvert_exporter": "python",
   "pygments_lexer": "ipython3",
   "version": "3.10.4"
  }
 },
 "nbformat": 4,
 "nbformat_minor": 5
}
